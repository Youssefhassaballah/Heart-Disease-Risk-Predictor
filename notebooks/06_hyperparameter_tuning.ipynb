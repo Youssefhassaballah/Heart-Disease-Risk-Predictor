{
 "cells": [
  {
   "cell_type": "code",
   "execution_count": 9,
   "id": "23e49225",
   "metadata": {},
   "outputs": [],
   "source": [
    "import pandas as pd\n",
    "from sklearn.model_selection import train_test_split, GridSearchCV, RandomizedSearchCV\n",
    "from sklearn.linear_model import LogisticRegression\n",
    "from sklearn.ensemble import RandomForestClassifier\n",
    "from sklearn.metrics import accuracy_score, precision_score, recall_score, f1_score, roc_auc_score\n",
    "import joblib"
   ]
  },
  {
   "cell_type": "code",
   "execution_count": 10,
   "id": "1b48c068",
   "metadata": {},
   "outputs": [],
   "source": [
    "df = pd.read_csv(\"../data/03_data_selected_features.csv\")\n",
    "X = df.drop(\"target\", axis=1)\n",
    "y = df[\"target\"]"
   ]
  },
  {
   "cell_type": "code",
   "execution_count": 11,
   "id": "ed9d205a",
   "metadata": {},
   "outputs": [],
   "source": [
    "X_train, X_test, y_train, y_test = train_test_split(\n",
    "    X, y, test_size=0.2, random_state=42, stratify=y\n",
    ")"
   ]
  },
  {
   "cell_type": "code",
   "execution_count": 12,
   "id": "7206351d",
   "metadata": {},
   "outputs": [
    {
     "name": "stdout",
     "output_type": "stream",
     "text": [
      "Best Logistic Regression Params: {'C': 10, 'penalty': 'l1'}\n",
      "Best Logistic Regression AUC: 0.8959139893922503\n"
     ]
    }
   ],
   "source": [
    "log_reg = LogisticRegression(max_iter=5000, solver=\"liblinear\")\n",
    "\n",
    "param_grid_log = {\n",
    "    \"C\": [0.01, 0.1, 1, 10, 100],\n",
    "    \"penalty\": [\"l1\", \"l2\"]\n",
    "}\n",
    "\n",
    "grid_log = GridSearchCV(log_reg, param_grid_log, cv=5, scoring=\"roc_auc\")\n",
    "grid_log.fit(X_train, y_train)\n",
    "\n",
    "print(\"Best Logistic Regression Params:\", grid_log.best_params_)\n",
    "print(\"Best Logistic Regression AUC:\", grid_log.best_score_)"
   ]
  },
  {
   "cell_type": "code",
   "execution_count": 13,
   "id": "58fa9c45",
   "metadata": {},
   "outputs": [
    {
     "name": "stdout",
     "output_type": "stream",
     "text": [
      "Best Random Forest Params: {'n_estimators': 200, 'min_samples_split': 10, 'min_samples_leaf': 1, 'max_depth': 5, 'bootstrap': True}\n",
      "Best Random Forest AUC: 0.896495050842877\n"
     ]
    }
   ],
   "source": [
    "rf = RandomForestClassifier(random_state=42)\n",
    "\n",
    "param_dist_rf = {\n",
    "    \"n_estimators\": [50, 100, 200, 300, 500],\n",
    "    \"max_depth\": [None, 5, 10, 20],\n",
    "    \"min_samples_split\": [2, 5, 10],\n",
    "    \"min_samples_leaf\": [1, 2, 4],\n",
    "    \"bootstrap\": [True, False]\n",
    "}\n",
    "\n",
    "rand_rf = RandomizedSearchCV(\n",
    "    rf, param_distributions=param_dist_rf, \n",
    "    n_iter=20, cv=5, scoring=\"roc_auc\", random_state=42, n_jobs=-1\n",
    ")\n",
    "rand_rf.fit(X_train, y_train)\n",
    "\n",
    "print(\"Best Random Forest Params:\", rand_rf.best_params_)\n",
    "print(\"Best Random Forest AUC:\", rand_rf.best_score_)\n"
   ]
  },
  {
   "cell_type": "code",
   "execution_count": 14,
   "id": "a80a163d",
   "metadata": {},
   "outputs": [
    {
     "name": "stdout",
     "output_type": "stream",
     "text": [
      "\n",
      "Logistic Regression (tuned) Performance on Test Set:\n",
      "Accuracy: 0.8524590163934426\n",
      "Precision: 0.8064516129032258\n",
      "Recall: 0.8928571428571429\n",
      "F1: 0.847457627118644\n",
      "ROC-AUC: 0.9318181818181819\n",
      "\n",
      "Random Forest (tuned) Performance on Test Set:\n",
      "Accuracy: 0.9016393442622951\n",
      "Precision: 0.8666666666666667\n",
      "Recall: 0.9285714285714286\n",
      "F1: 0.896551724137931\n",
      "ROC-AUC: 0.9545454545454546\n"
     ]
    }
   ],
   "source": [
    "best_log = grid_log.best_estimator_\n",
    "best_rf = rand_rf.best_estimator_\n",
    "\n",
    "models = {\"Logistic Regression (tuned)\": best_log, \"Random Forest (tuned)\": best_rf}\n",
    "\n",
    "for name, model in models.items():\n",
    "    y_pred = model.predict(X_test)\n",
    "    y_proba = model.predict_proba(X_test)[:,1]\n",
    "    print(f\"\\n{name} Performance on Test Set:\")\n",
    "    print(\"Accuracy:\", accuracy_score(y_test, y_pred))\n",
    "    print(\"Precision:\", precision_score(y_test, y_pred))\n",
    "    print(\"Recall:\", recall_score(y_test, y_pred))\n",
    "    print(\"F1:\", f1_score(y_test, y_pred))\n",
    "    print(\"ROC-AUC:\", roc_auc_score(y_test, y_proba))"
   ]
  },
  {
   "cell_type": "code",
   "execution_count": 15,
   "id": "189b7fdb",
   "metadata": {},
   "outputs": [
    {
     "name": "stdout",
     "output_type": "stream",
     "text": [
      "✅ Final model saved as models/final_model.pkl\n"
     ]
    }
   ],
   "source": [
    "final_model = rand_rf.best_estimator_\n",
    "joblib.dump(final_model, \"../models/final_model.pkl\")\n",
    "\n",
    "print(\"✅ Final model saved as models/final_model.pkl\")\n"
   ]
  }
 ],
 "metadata": {
  "kernelspec": {
   "display_name": "Python 3",
   "language": "python",
   "name": "python3"
  },
  "language_info": {
   "codemirror_mode": {
    "name": "ipython",
    "version": 3
   },
   "file_extension": ".py",
   "mimetype": "text/x-python",
   "name": "python",
   "nbconvert_exporter": "python",
   "pygments_lexer": "ipython3",
   "version": "3.12.4"
  }
 },
 "nbformat": 4,
 "nbformat_minor": 5
}
