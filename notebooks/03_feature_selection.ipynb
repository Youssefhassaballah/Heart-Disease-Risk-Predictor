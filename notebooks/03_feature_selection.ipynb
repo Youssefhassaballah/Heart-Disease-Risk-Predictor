{
 "cells": [
  {
   "cell_type": "markdown",
   "id": "143d2749",
   "metadata": {},
   "source": [
    "# Notebook 03: Feature Selection\n",
    "\n",
    "## 1. Objective\n",
    "This notebook focuses on identifying the most important features for predicting heart disease using various feature selection techniques. The goals are to:\n",
    "- Rank features by their importance using multiple methods\n",
    "- Select the optimal subset of features for modeling\n",
    "- Reduce dimensionality while maintaining predictive power\n",
    "- Improve model interpretability and performance\n",
    "\n",
    "## 2. Introduction to Feature Selection\n",
    "Feature selection is the process of selecting a subset of relevant features for model construction. It helps to:\n",
    "- Reduce overfitting\n",
    "- Improve accuracy\n",
    "- Reduce training time\n",
    "- Enhance model interpretability\n",
    "\n",
    "**Techniques used in this notebook:**\n",
    "- Feature Importance from Tree-based models\n",
    "- Recursive Feature Elimination (RFE)\n",
    "- Statistical methods (Chi-Square, Correlation analysis)"
   ]
  },
  {
   "cell_type": "code",
   "execution_count": 1,
   "id": "f072b8af",
   "metadata": {},
   "outputs": [],
   "source": [
    "import pandas as pd\n",
    "import matplotlib.pyplot as plt\n",
    "import seaborn as sns\n",
    "from sklearn.ensemble import RandomForestClassifier\n",
    "from sklearn.feature_selection import RFE, chi2, SelectKBest\n",
    "from sklearn.preprocessing import MinMaxScaler\n",
    "from sklearn.linear_model import LogisticRegression\n"
   ]
  },
  {
   "cell_type": "code",
   "execution_count": 2,
   "id": "fb0316b1",
   "metadata": {},
   "outputs": [],
   "source": [
    "df = pd.read_csv(\"../data/01_cleaned_data.csv\")\n",
    "X = df.drop(\"target\", axis=1)\n",
    "y = df[\"target\"]"
   ]
  },
  {
   "cell_type": "code",
   "execution_count": 3,
   "id": "b5421330",
   "metadata": {},
   "outputs": [],
   "source": [
    "rf = RandomForestClassifier(random_state=42)\n",
    "rf.fit(X, y)\n",
    "\n",
    "importances = rf.feature_importances_\n",
    "feature_importance = pd.DataFrame({\"Feature\": X.columns, \"Importance\": importances})\n",
    "feature_importance = feature_importance.sort_values(by=\"Importance\", ascending=False)"
   ]
  },
  {
   "cell_type": "code",
   "execution_count": 4,
   "id": "003e6047",
   "metadata": {},
   "outputs": [
    {
     "name": "stderr",
     "output_type": "stream",
     "text": [
      "C:\\Users\\engjo\\AppData\\Local\\Temp\\ipykernel_23312\\1101861402.py:2: FutureWarning: \n",
      "\n",
      "Passing `palette` without assigning `hue` is deprecated and will be removed in v0.14.0. Assign the `y` variable to `hue` and set `legend=False` for the same effect.\n",
      "\n",
      "  sns.barplot(x=\"Importance\", y=\"Feature\", data=feature_importance, palette=\"viridis\")\n"
     ]
    },
    {
     "data": {
      "image/png": "[encoded data removed]",
      "text/plain": [
       "<Figure size 1000x600 with 1 Axes>"
      ]
     },
     "metadata": {},
     "output_type": "display_data"
    }
   ],
   "source": [
    "plt.figure(figsize=(10,6))\n",
    "sns.barplot(x=\"Importance\", y=\"Feature\", data=feature_importance, palette=\"viridis\")\n",
    "plt.title(\"Feature Importance - Random Forest\")\n",
    "plt.show()"
   ]
  },
  {
   "cell_type": "code",
   "execution_count": 5,
   "id": "ec82f696",
   "metadata": {},
   "outputs": [
    {
     "name": "stdout",
     "output_type": "stream",
     "text": [
      "RFE Selected Features: Index(['sex', 'cp', 'exang', 'slope', 'ca'], dtype='object')\n"
     ]
    }
   ],
   "source": [
    "log_reg = LogisticRegression(max_iter=2000)\n",
    "\n",
    "rfe = RFE(estimator=log_reg, n_features_to_select=5)\n",
    "rfe.fit(X, y)\n",
    "\n",
    "selected_features_rfe = X.columns[rfe.support_]\n",
    "print(\"RFE Selected Features:\", selected_features_rfe)"
   ]
  },
  {
   "cell_type": "code",
   "execution_count": 6,
   "id": "a0ddb5be",
   "metadata": {},
   "outputs": [
    {
     "name": "stdout",
     "output_type": "stream",
     "text": [
      "    Feature  Chi2 Score\n",
      "12     thal   44.877965\n",
      "8     exang   38.052613\n",
      "11       ca   28.038394\n",
      "9   oldpeak   11.382669\n",
      "10    slope   10.984336\n"
     ]
    }
   ],
   "source": [
    "scaler = MinMaxScaler()\n",
    "X_scaled = scaler.fit_transform(X)\n",
    "\n",
    "chi_selector = SelectKBest(score_func=chi2, k=5)\n",
    "chi_selector.fit(X_scaled, y)\n",
    "\n",
    "chi_scores = pd.DataFrame({\"Feature\": X.columns, \"Chi2 Score\": chi_selector.scores_})\n",
    "chi_scores = chi_scores.sort_values(by=\"Chi2 Score\", ascending=False)\n",
    "\n",
    "print(chi_scores.head())"
   ]
  },
  {
   "cell_type": "code",
   "execution_count": 7,
   "id": "70a28b50",
   "metadata": {},
   "outputs": [
    {
     "name": "stdout",
     "output_type": "stream",
     "text": [
      "Top Random Forest: ['thalach', 'cp', 'ca', 'thal', 'oldpeak']\n",
      "Top RFE: ['sex', 'cp', 'exang', 'slope', 'ca']\n",
      "Top Chi2: ['thal', 'exang', 'ca', 'oldpeak', 'slope']\n",
      "Final Selected Features: ['thalach', 'thal', 'ca', 'exang', 'cp', 'oldpeak', 'sex', 'slope']\n"
     ]
    }
   ],
   "source": [
    "\n",
    "top_rf = feature_importance[\"Feature\"].head(5).tolist()\n",
    "\n",
    "top_rfe = selected_features_rfe.tolist()\n",
    "\n",
    "top_chi = chi_scores[\"Feature\"].head(5).tolist()\n",
    "\n",
    "print(\"Top Random Forest:\", top_rf)\n",
    "print(\"Top RFE:\", top_rfe)\n",
    "print(\"Top Chi2:\", top_chi)\n",
    "\n",
    "final_features = list(set(top_rf) | set(top_rfe) | set(top_chi))\n",
    "print(\"Final Selected Features:\", final_features)\n",
    "\n",
    "X_selected = df[final_features]\n",
    "X_selected = df[final_features].copy()\n",
    "X_selected[\"target\"] = y\n",
    "X_selected.to_csv(\"../data/03_data_selected_features.csv\", index=False)\n"
   ]
  }
 ],
 "metadata": {
  "kernelspec": {
   "display_name": "Python 3",
   "language": "python",
   "name": "python3"
  },
  "language_info": {
   "codemirror_mode": {
    "name": "ipython",
    "version": 3
   },
   "file_extension": ".py",
   "mimetype": "text/x-python",
   "name": "python",
   "nbconvert_exporter": "python",
   "pygments_lexer": "ipython3",
   "version": "3.12.4"
  }
 },
 "nbformat": 4,
 "nbformat_minor": 5
}
